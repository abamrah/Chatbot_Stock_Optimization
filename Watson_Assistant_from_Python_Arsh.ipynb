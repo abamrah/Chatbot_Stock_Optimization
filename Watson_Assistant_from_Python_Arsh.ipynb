{
 "cells": [
  {
   "cell_type": "markdown",
   "metadata": {},
   "source": [
    "# Watson Assistant chatbot service on IBM Cloud: Final Exam Project\n",
    "## Group 13"
   ]
  },
  {
   "cell_type": "markdown",
   "metadata": {},
   "source": [
    "## Import Libraries"
   ]
  },
  {
   "cell_type": "code",
   "execution_count": 1,
   "metadata": {
    "scrolled": false
   },
   "outputs": [
    {
     "name": "stderr",
     "output_type": "stream",
     "text": [
      "C:\\Users\\arshb\\anaconda3\\lib\\site-packages\\ipopt\\__init__.py:13: FutureWarning: The module has been renamed to 'cyipopt' from 'ipopt'. Please import using 'import cyipopt' and remove all uses of 'import ipopt' in your code as this will be deprecated in a future release.\n",
      "  warnings.warn(msg, FutureWarning)\n"
     ]
    }
   ],
   "source": [
    "import os\n",
    "from glob import glob\n",
    "from bs4 import BeautifulSoup\n",
    "import IPython\n",
    "from ibm_cloud_sdk_core.authenticators import IAMAuthenticator\n",
    "from ibm_watson import AssistantV2\n",
    "import numpy as np\n",
    "import pandas as pd\n",
    "import matplotlib.pyplot as plt\n",
    "from scipy import sparse\n",
    "import math\n",
    "import cplex\n",
    "import ipopt"
   ]
  },
  {
   "cell_type": "markdown",
   "metadata": {},
   "source": [
    "## Helper Functions"
   ]
  },
  {
   "cell_type": "code",
   "execution_count": 2,
   "metadata": {},
   "outputs": [],
   "source": [
    "def rebalance(todayprice, old_x, W_new, Cash_old, tr):\n",
    "    Cash=False\n",
    "    \n",
    "    #compute current portfolio value\n",
    "    V_cur = np.dot(todayprice, old_x) + Cash_old\n",
    "    W_new = np.asarray(W_new)\n",
    "    #calculate number of stocks to buy and sell\n",
    "    new_x = np.divide(np.multiply(V_cur,W_new), todayprice)\n",
    "    new_x = rounder_vec(new_x) #round up or down up when first decimal is 0.5 or above and round down otherwise\n",
    "    \n",
    " \n",
    "    #rebalancing loop\n",
    "    while Cash==False:\n",
    "        #calculate buy or sell\n",
    "        change_x = np.subtract(new_x, old_x) #if positive means buy if negative means sell\n",
    "        tran_buyl = []\n",
    "        tran_selll = []\n",
    "        for i in change_x:\n",
    "            if i>=0: #making a list of all the stocks which are to buy\n",
    "                tran_buyl.append(1)\n",
    "                tran_selll.append(0)\n",
    "            if i<0: #making a list of all the stocks which are to sell\n",
    "                tran_buyl.append(0)\n",
    "                tran_selll.append(1)\n",
    "        tran_buyl =  np.asarray(tran_buyl) #list with value 1 are to buy stocks\n",
    "        tran_selll =  np.asarray(tran_selll) #list with value 1 are to sell stocks\n",
    "        \n",
    "        tran_buy = np.sum(new_x * tran_buyl * todayprice) * tr #total transaction cost for buy the stocks\n",
    "        tran_sell = np.sum(new_x * tran_selll * todayprice) * tr #total transaction cost for sell the stocks\n",
    "        \n",
    "        Newvalue = np.dot(new_x, todayprice) + tran_buy - tran_sell #total value of the portfolio adding buying cost and subtracting sell cost\n",
    "              \n",
    "        Cash_new = V_cur - Newvalue #balancing equation (current portfolio value - new portfolio value + cash account)\n",
    "        \n",
    "        #balacing the cash account so its never below zero\n",
    "        \n",
    "        if Cash_new >= 0: #if cash account positive then break the rebalancing loop and return the cash and x optimal\n",
    "            Cash == True\n",
    "            break\n",
    "         \n",
    "        if Cash_new < 0: #if cash negative then recalculate x optimal\n",
    "            newlist = (np.multiply(new_x, todayprice) - abs(Cash_new)).tolist() #which stock has a value more than the cash account\n",
    "            idx_list = np.array(newlist).argsort().tolist() #listing the stocks index in a ascending order\n",
    "            \n",
    "            for i in idx_list: #checking the stock value by lowest to highest\n",
    "                if newlist[i] > 0: #if the stock value is above zero and very close to cash account balance then remove that stock\n",
    "                    new_x[i] = new_x[i] - 1 #removing the stock which has a close value to the abs(negative cash value). Minimizing the impact on the overall portfolio\n",
    "                    break\n",
    "                                                \n",
    "    return new_x, Cash_new\n",
    "\n",
    "def rounder(x): #parts of the code are from https://stackoverflow.com/questions/53201470/how-to-always-round-up-a-xx-5-in-numpy\n",
    "    if (x-int(x) >= 0.5): #round the asset up if the secoond decimal place is equal or greater that 0.5\n",
    "        return np.ceil(x)\n",
    "    else: \n",
    "        return np.floor(x) #round the asset down otherwise\n",
    "rounder_vec = np.vectorize(rounder) #vectorize to apply the function to every value in array"
   ]
  },
  {
   "cell_type": "markdown",
   "metadata": {},
   "source": [
    "### Equally Weighted"
   ]
  },
  {
   "cell_type": "code",
   "execution_count": 3,
   "metadata": {},
   "outputs": [],
   "source": [
    "def strat_equally_weighted(x_init, cash_init, mu, Q, cur_prices, tr):\n",
    "    interest = 0\n",
    "    #compute current portfolio value\n",
    "    V_cur = np.dot(cur_prices, x_init) + cash_init \n",
    "    w = 1/len(x_init) #weights to be equal amoung all assets for equally weighted strategy\n",
    "    x_optimal, cash_optimal = rebalance(cur_prices, x_init, w, cash_init, tr) #applying rebalancing algorithim to balance and \n",
    "                                                                          #optimize the number of stocks and cash account balance.\n",
    "    return x_optimal, cash_optimal,interest"
   ]
  },
  {
   "cell_type": "markdown",
   "metadata": {},
   "source": [
    "### Minimum Variance"
   ]
  },
  {
   "cell_type": "code",
   "execution_count": 4,
   "metadata": {},
   "outputs": [],
   "source": [
    "def strat_min_variance(x_init, cash_init, mu, Q, cur_prices, tr):\n",
    "    np.random.seed(978351)\n",
    "    \n",
    "    cpx = cplex.Cplex()\n",
    "    cpx.objective.set_sense(cpx.objective.sense.minimize) #setting cplex to minimize\n",
    "    n = len(x_init)\n",
    "    c  = [0.0] * n #no linear part in the equation\n",
    "    lb = [0.0] * n # w>= 0\n",
    "    ub = [1.0] * n #upper bound = 1\n",
    "    \n",
    "    A = [] #LHS of the constraints \n",
    "    for k in range(n):\n",
    "        A.append([[0, 1],[1.0, 0]])\n",
    "    \n",
    "    var_names = [\"w_%s\" % i for i in range(1,n+1)] #total number of variables\n",
    "    \n",
    "    cpx.linear_constraints.add(rhs=[1.0, 0], senses=\"EG\") #RHS of the constraints\n",
    "    cpx.variables.add(obj=c, lb=lb, ub=ub, columns=A, names=var_names) #adding the linear part of the equation into the solver\n",
    "    \n",
    "    Qmat = [[list(range(n)), list(2*Q[k,:])] for k in range(n)] #defining the quadratic part of the equations\n",
    "    \n",
    "    \n",
    "    cpx.objective.set_quadratic(Qmat) #adding the quadratic part of the solver\n",
    "    \n",
    "    cpx.parameters.threads.set(4)\n",
    "    \n",
    "    # Disable CPLEX output to screen\n",
    "    cpx.set_results_stream(None)\n",
    "    cpx.set_warning_stream(None)\n",
    "    \n",
    "    # Compute min varuabce solution with CPLEX\n",
    "    cpx.solve()\n",
    "    w_cur = cpx.solution.get_values()\n",
    "      \n",
    "    x_optimal, cash_optimal = rebalance(cur_prices, x_init, w_cur, cash_init, tr)#applying rebalancing algorithim to balance and \n",
    "                                                                          #optimize the number of stocks and cash account balance.\n",
    "    \n",
    "    intrest = 0\n",
    "    return x_optimal, cash_optimal, intrest"
   ]
  },
  {
   "cell_type": "markdown",
   "metadata": {},
   "source": [
    "### Maximum Sharpe Ratio"
   ]
  },
  {
   "cell_type": "code",
   "execution_count": 5,
   "metadata": {},
   "outputs": [],
   "source": [
    "# MAX SHARPE RATIO\n",
    "def strat_max_Sharpe(x_init, cash_init, mu, Q, cur_prices, tr):\n",
    "    \n",
    "    interest = 0\n",
    "    portfolio_value = cur_prices.dot(x_init) + cash_init\n",
    "\n",
    "    \n",
    "    n1 = len(x_init)\n",
    "    n = n1+1\n",
    "    r_rf = 0.025\n",
    "    \n",
    "    daily_rf = r_rf / 252\n",
    "\n",
    "    Q1 = np.append(Q,np.zeros((n1,1)),axis=1)\n",
    "    new_row = np.zeros((n))\n",
    "    Q2 = np.vstack([Q1,new_row]) #add new column and new row for risk-free asset\n",
    "\n",
    "    diff = mu-daily_rf * np.ones(n1) # for convenience\n",
    "\n",
    "    A = []\n",
    "    for k in range(n-1):\n",
    "        A.append([[0,1],[diff[k],1.0]])\n",
    "    A.append([[0,1],[0,-1.0]]) # diff.dot(y)==1\n",
    "\n",
    "    cpx = cplex.Cplex()\n",
    "    cpx.objective.set_sense(cpx.objective.sense.minimize)\n",
    "    c = [0]*n\n",
    "    lb = [0]*n\n",
    "    ub = [np.inf]*n\n",
    "\n",
    "    var_names = ['y_%s'% i for i in range(1,n+1)]\n",
    "    cpx.linear_constraints.add(rhs=[1.0,0],senses='EE')\n",
    "    cpx.variables.add(obj=c,lb=lb,ub=ub,columns=A,names=var_names)\n",
    "\n",
    "    qmat = [[list(range(n)),list(2*Q2[k,:])] for k in range(n)]\n",
    "\n",
    "    cpx.objective.set_quadratic(qmat)\n",
    "    cpx.parameters.threads.set(6)\n",
    "    cpx.set_results_stream(None)\n",
    "    cpx.set_warning_stream(None)\n",
    "    cpx.solve()\n",
    "    \n",
    "    if cpx.solution.get_status_string()== 'infeasible':\n",
    "            x_optimal = x_init\n",
    "            cash_optimal = cash_init\n",
    "            w_maxSharp = (x_init*cur_prices)/portfolio_value\n",
    "            \n",
    "    else:\n",
    "        result = np.array(cpx.solution.get_values())\n",
    "        w_maxSharp = result[0:n1]/result[n1]\n",
    "\n",
    "        x_optimal, cash_optimal = rebalance(cur_prices, x_init, w_maxSharp, cash_init, tr)#applying rebalancing algorithim to balance and \n",
    "                                                                              #optimize the number of stocks and cash account balance.\n",
    "    \n",
    "    return x_optimal, cash_optimal,interest"
   ]
  },
  {
   "cell_type": "markdown",
   "metadata": {},
   "source": [
    "### Equal Risk Contribution"
   ]
  },
  {
   "cell_type": "code",
   "execution_count": 6,
   "metadata": {},
   "outputs": [],
   "source": [
    "class erc(object):\n",
    "    def __init__(self):\n",
    "        pass\n",
    "\n",
    "    def objective(self, x):\n",
    "        # The callback for calculating the objective\n",
    "        y = x * np.dot(Q, x)\n",
    "        fval = 0\n",
    "        n = len(x)\n",
    "        for i in range(n):\n",
    "            for j in range(i,n):\n",
    "                xij = y[i] - y[j]\n",
    "                fval = fval + xij*xij\n",
    "        fval = 2*fval\n",
    "        return fval\n",
    "\n",
    "    def gradient(self, x):\n",
    "        # The callback for calculating the gradient\n",
    "        a = np.dot(Q,x)\n",
    "        b = np.multiply(a, x)\n",
    "        c = sum(-1*b)\n",
    "        grad = np.zeros(len(x))\n",
    "        \n",
    "        for  i in range(0, len(x)):\n",
    "            grad[i] = 2*a[i]*(c+len(x)*b[i])\n",
    "        return grad\n",
    "\n",
    "    def constraints(self, x):\n",
    "        # The callback for calculating the constraints\n",
    "        return [1.0] * len(x)\n",
    "    \n",
    "    def jacobian(self, x):\n",
    "        # The callback for calculating the Jacobian\n",
    "        return np.array([[1.0] * len(x)])"
   ]
  },
  {
   "cell_type": "code",
   "execution_count": 7,
   "metadata": {},
   "outputs": [],
   "source": [
    "def strat_equal_risk_contr(x_init, cash_init, mu, Q, cur_prices, tr):\n",
    "    n = len(x_init) \n",
    "    w0 = [1.0/n] * n\n",
    "    # Use \"1/n portfolio\" w0 as initial portfolio for starting IPOPT optimization\n",
    "\n",
    "    lb = [0.0] * n  # lower bounds on variables\n",
    "    ub = [1.0] * n  # upper bounds on variables\n",
    "    cl = [1]        # lower bounds on constraints\n",
    "    cu = [1]        # upper bounds on constraints\n",
    "\n",
    "    # Define IPOPT problem\n",
    "    nlp = ipopt.Problem(n=len(x_init), m=len(cl), problem_obj=erc(), lb=lb, ub=ub, cl=cl, cu=cu)\n",
    " \n",
    "    # Set the IPOPT options\n",
    "    nlp.add_option('jac_c_constant'.encode('utf-8'), 'yes'.encode('utf-8'))\n",
    "    nlp.add_option('hessian_approximation'.encode('utf-8'), 'limited-memory'.encode('utf-8'))\n",
    "    nlp.add_option('mu_strategy'.encode('utf-8'), 'adaptive'.encode('utf-8'))\n",
    "    nlp.add_option('tol'.encode('utf-8'), 1e-10)\n",
    "\n",
    "    # Solve the problem\n",
    "    w_erc, info = nlp.solve(w0)\n",
    "    \n",
    "    # Compute variance and asset risk contributions for the ERC portfolio\n",
    "    var_ERC = np.dot(w_erc, np.dot(Q, w_erc))\n",
    "    std_ERC = np.sqrt(var_ERC)\n",
    "    RC_ERC = (w_erc * np.dot(Q, w_erc)) / std_ERC\n",
    "    \n",
    "  \n",
    "    if np.allclose(np.sum(w_erc),1) and np.allclose(np.sum(RC_ERC), std_ERC): #check to see if equal variaence and sum of weights\n",
    "        x_optimal, cash_optimal = rebalance(cur_prices, x_init, w_erc, cash_init, tr)#applying rebalancing algorithim to balance and \n",
    "                                                                          #optimize the number of stocks and cash account balance.\n",
    "    \n",
    "    interest = 0\n",
    "    return x_optimal, cash_optimal, interest"
   ]
  },
  {
   "cell_type": "markdown",
   "metadata": {},
   "source": [
    "### Robust Mean-Variance"
   ]
  },
  {
   "cell_type": "code",
   "execution_count": 8,
   "metadata": {},
   "outputs": [],
   "source": [
    "def strat_robust_optim(x_init, cash_init, mu, Q, cur_prices, tr):\n",
    "    \n",
    "    n = len(x_init)\n",
    "    w0 = [1/n]*n\n",
    "    var_matr = np.diag(np.diag(Q))\n",
    "    rob_init = np.dot(w0, np.dot(var_matr, w0))\n",
    "    rob_bnd = rob_init #target variance to equal to equally weighted \n",
    "    \n",
    "    r_rf = 0.025\n",
    "    \n",
    "    daily_rf = r_rf/252\n",
    "    \n",
    "    Portf_Retn = daily_rf #target portfolio return to equal daily  risk free rate of return\n",
    "        \n",
    "    cpx = cplex.Cplex()\n",
    "    cpx.objective.set_sense(cpx.objective.sense.minimize)\n",
    "\n",
    "    c  = [0.0] * n\n",
    "    lb = [0.0] * n\n",
    "    ub = [1.0] * n    \n",
    "    \n",
    "    A = []\n",
    "    for k in range(n):\n",
    "        A.append([[0,1],[1.0,mu[k]]])\n",
    "    \n",
    "    var_names = [\"w_%s\" % i for i in range(1,n+1)]\n",
    "    \n",
    "    cpx.linear_constraints.add(rhs=[1.0,Portf_Retn], senses=\"EG\")\n",
    "    \n",
    "    cpx.variables.add(obj=c, lb=lb, ub=ub, columns=A, names=var_names)\n",
    "    \n",
    "    Qmat = [[list(range(n)), list(2*Q[k,:])] for k in range(n)]\n",
    "    \n",
    "    cpx.objective.set_quadratic(Qmat)\n",
    "    \n",
    "    Qcon = cplex.SparseTriple(ind1=var_names, ind2=range(n), val=np.diag(var_matr))\n",
    "    cpx.quadratic_constraints.add(rhs=rob_bnd, quad_expr=Qcon, name=\"Qc\")\n",
    "    \n",
    "    cpx.parameters.threads.set(4)\n",
    "    cpx.parameters.timelimit.set(60)\n",
    "    cpx.parameters.barrier.qcpconvergetol.set(1e-12)\n",
    "    \n",
    "    # Disable CPLEX output to screen\n",
    "    cpx.set_results_stream(None)\n",
    "    cpx.set_warning_stream(None)\n",
    "    cpx.solve()\n",
    "    \n",
    "    if cpx.solution.get_status_string()== 'infeasible': #if no cplex solution, keep the portfolio same as the last period\n",
    "            \n",
    "            x_optimal = x_init\n",
    "            cash_optimal = cash_init\n",
    "    else:\n",
    "        \n",
    "        w_rMV = np.array(cpx.solution.get_values()) \n",
    "        w_rMV[w_rMV<1e-7] = 0 #zeroing the weights which are closer to zero\n",
    "        w_rMV = w_rMV / np.sum(w_rMV) #reassigining the weights\n",
    "       \n",
    "        x_optimal, cash_optimal = rebalance(cur_prices, x_init, w_rMV, cash_init, tr)#applying rebalancing algorithim to balance and \n",
    "                                                                          #optimize the number of stocks and cash account balance.\n",
    "    borrow = 0\n",
    "    \n",
    "    return x_optimal, cash_optimal, borrow"
   ]
  },
  {
   "cell_type": "markdown",
   "metadata": {},
   "source": [
    "## Clean Watson Assistant Responses"
   ]
  },
  {
   "cell_type": "code",
   "execution_count": 9,
   "metadata": {},
   "outputs": [],
   "source": [
    "def clean_dic(dic):\n",
    "    stocks = []\n",
    "    industry = []\n",
    "    Tech = ['Technology', 'Tech', 'tech']\n",
    "    Auto = ['Auto', 'Car', 'Automobile', 'auto']\n",
    "    Pharma = ['Pharma', 'Pharmaceutical', 'Pharama', 'pharma']\n",
    "    Energy = ['Energy', 'Oil', 'Gas', 'energy']\n",
    "    Banking = ['Bank', 'Banks', 'Banking', 'banking', 'bank']\n",
    "    rebalance_option = ['Every month','Every 2 months', 'Quarterly', 'Half-yearly']\n",
    "    strategy = 'Mininum Variance Portfolio'\n",
    "    rb_options = [1,2,4,6]\n",
    "    time_options = ['6 months','1 year','2 year','3 year']\n",
    "    time_op = [0.5,1,2,3]\n",
    "    \n",
    "    if 'stocks' in dic:\n",
    "        for i in range(0, len(dic['stocks'][0].split(\",\"))):\n",
    "            stocks.append(int(dic['stocks'][0].split(\",\")[i])) \n",
    "        invest = None\n",
    "    \n",
    "    if 'investamount' in dic:\n",
    "        invest = int(dic['investamount'][0])\n",
    "        stock = None\n",
    "        \n",
    "    if len(dic['industry']) == 1:\n",
    "        lnd = dic['industry'][0].split(\",\")\n",
    "    else:\n",
    "        lnd = list(dic['industry'][1].split(\",\"))\n",
    "        lnd.append(dic['industry'][0])\n",
    "\n",
    "    for i in range(0, len(lnd)):\n",
    "        #Tech\n",
    "        for p in Tech:\n",
    "            if lnd[i] == p:\n",
    "                industry.append('Tech')\n",
    "        #Auto\n",
    "        for p in Auto:\n",
    "            if lnd[i] == p:\n",
    "                industry.append('Auto')\n",
    "                \n",
    "        #Pharma\n",
    "        for p in Pharma:\n",
    "            if lnd[i] == p:\n",
    "                industry.append('Pharma')\n",
    "\n",
    "        #Energy\n",
    "        for p in Energy:\n",
    "            if lnd[i] == p:\n",
    "                industry.append('Energy')\n",
    "        \n",
    "        #Bank\n",
    "        for p in Banking:\n",
    "            if lnd[i] == p:\n",
    "                industry.append('Banking')        \n",
    "    \n",
    "    industry[:] = list(set(industry))\n",
    "    \n",
    "    #rebalance_time\n",
    "    for rb in range(0, len(rebalance_option)):\n",
    "        if dic['rebalance_period'][0] == rebalance_option[rb]:\n",
    "            rebalance_time = rb_options[rb]\n",
    "    #time_invest\n",
    "    for tb in range(0, len(time_options)):\n",
    "        if dic['time_period'][0] == time_options[tb]:\n",
    "            time = time_op[tb]\n",
    "    \n",
    "    #risk\n",
    "    risk = dic['risk'][0]\n",
    "    \n",
    "\n",
    "    #strategy selection\n",
    "    #longtime High risk high rebalance: Sharpe Ratio\n",
    "    if rebalance_time == 1 or rebalance_time == 2:\n",
    "        if time == 2 or time == 3:\n",
    "            if risk == \"high\":\n",
    "                strategy = 'Maximum Sharpe Ratio Portfolio'\n",
    "    \n",
    "    #longtime Med risk low rebalance: Equally Weighted\n",
    "    if rebalance_time == 4 or rebalance_time == 6:\n",
    "        if time == 2 or time == 3:\n",
    "            if risk == \"moderate\":\n",
    "                strategy = 'Equally Weighted Portfolio'\n",
    "    \n",
    "    #longtime Low risk low rebalance: Equal Risk Contribution\n",
    "    if rebalance_time == 4 or rebalance_time == 6:\n",
    "        if time == 2 or time == 3:\n",
    "            if risk == \"low\":\n",
    "                strategy = 'Equal Risk Contributions Portfolio'\n",
    "    \n",
    "    #shorttime High risk high rebalance: Sharpe Ratio\n",
    "    if rebalance_time == 1 or rebalance_time == 2:\n",
    "        if time == 0.5 or time == 1:\n",
    "            if risk == \"high\":\n",
    "                strategy = 'Maximum Sharpe Ratio Portfolio'\n",
    "    \n",
    "    #shorttime Med risk low rebalance: Robust Min Variance\n",
    "    if rebalance_time == 4 or rebalance_time == 6:\n",
    "        if time == 0.5 or time == 1:\n",
    "            if risk == \"moderate\":\n",
    "                strategy = 'Robust Optimization Portfolio'\n",
    "    \n",
    "    #shorttime Low risk low rebalance: Minimum Variance\n",
    "    if rebalance_time == 4 or rebalance_time == 6:\n",
    "        if time == 0.5 or time == 1:\n",
    "            if risk == \"low\":\n",
    "                strategy = 'Mininum Variance Portfolio'\n",
    "      \n",
    "    #trans\n",
    "    trans = int(dic['transactioncost'][0].split(\"%\")[0])/100\n",
    "    \n",
    "    print('Existing Stocks:', stocks)\n",
    "    print('Investment Amount: ',invest)\n",
    "    print('Industry to invest in: ', industry)\n",
    "    print('Selected Strategy: ', strategy)\n",
    "    print('Rebalancing Time: ', rebalance_time)\n",
    "    print('Time to invest for: ', time)\n",
    "    print('Risk Level: ', risk)\n",
    "    print('Transaction Rate: ', trans)\n",
    "        \n",
    "    return stocks, invest, industry, strategy, trans"
   ]
  },
  {
   "cell_type": "markdown",
   "metadata": {},
   "source": [
    "## Portfolio Optimization"
   ]
  },
  {
   "cell_type": "code",
   "execution_count": 10,
   "metadata": {},
   "outputs": [],
   "source": [
    "data = pd.read_csv('MIE1622_FinalData.csv')\n",
    "data = data.dropna()"
   ]
  },
  {
   "cell_type": "code",
   "execution_count": 11,
   "metadata": {},
   "outputs": [],
   "source": [
    "# Convert dates into array [year month day]\n",
    "def convert_date_to_array(datestr):\n",
    "    temp = [int(x) for x in datestr.split('-')]\n",
    "    return [temp[-1], temp[0], temp[1]]"
   ]
  },
  {
   "cell_type": "code",
   "execution_count": 12,
   "metadata": {},
   "outputs": [],
   "source": [
    "def protopt(stocks, invest, industry, strategy, trans, data):\n",
    "    ind_dic = {\"Banking\": ['RY', 'CM-PQ.TO', 'C', 'TD', 'JPM'], \"Tech\": ['AAPL', 'AMZN', 'GOOG','ORCL', 'TSLA'], \n",
    "              \"Energy\": ['CNQ', 'SU', 'IMO', 'ENB', 'TRP'], \"Auto\": ['GM', 'HMC', 'F','TM', 'TTM'],\n",
    "              \"Pharma\": ['PFE', 'ABBV', 'JNJ', 'SNY', 'MRK']}\n",
    "    name_dic = {'RY': \"RoyalBank\",'CM-PQ.TO': \"CIBC\",'C': \"CITI\",'TD': \"TDCanada\",'JPM': \"JPMChase\",'AAPL': \"Apple\",\n",
    "        'AMZN': \"Amazon\",'GOOG': \"Google\",'ORCL': \"Oracle\",'TSLA': \"Tesla\",'CNQ': \"CanadianNaturalResoruces\",\n",
    "        'SU': \"SuncorEnergy\",'IMO': \"ImperialOil\",'ENB': \"Enbridge\",'TRP': \"TCEnergy\",'GM': \"GeneralMotors\",\n",
    "        'HMC': \"Honda\",'F': \"Ford\",'TM': \"Toyota\",'TTM': \"TataMotors\",'PFE': \"Pfizer\",'ABBV': \"Abbvie\",'JNJ': \"Johnson\",\n",
    "        'SNY': \"Sanofi\",'MRK': \"Merick\"}\n",
    "    \n",
    "    col = []\n",
    "    comp_names = []\n",
    "    col.append('Date')\n",
    "    data1 = data.copy()\n",
    "    data_prices1 = data1.iloc[:, 1:].to_numpy()\n",
    "    \n",
    "    for i in industry:\n",
    "        col.extend(ind_dic[i]) \n",
    "    data = data[col]\n",
    "    dates_array = np.array(list(data['Date'].apply(convert_date_to_array)))\n",
    "    data_prices = data.iloc[:, 1:].to_numpy()# prices for each asset\n",
    "    dates = np.array(data['Date'])\n",
    "    \n",
    "    for i in col:\n",
    "        try:\n",
    "            comp_names.append(name_dic[i])\n",
    "        except:\n",
    "            pass\n",
    "    \n",
    "    # compute expected return and covariance matrix for past 5 years\n",
    "    day_ind_start0 = 0\n",
    "    day_ind_end0 = len(dates_array[:,0])\n",
    "    cur_returns0 = data_prices[day_ind_start0+1:day_ind_end0,:] / data_prices[day_ind_start0:day_ind_end0-1,:] - 1\n",
    "    mu = np.mean(cur_returns0, axis = 0)\n",
    "    Q = np.cov(cur_returns0.T)\n",
    "    day_ind_start = max([i for i, val in enumerate((dates_array[:,0] == 2022) & (dates_array[:,2] == 4)) if val])\n",
    "    cur_prices = data_prices[day_ind_start,:]\n",
    "    old_cir_prices = data_prices1[day_ind_start,:]\n",
    "    \n",
    "    if len(stocks)==0:\n",
    "        init_positions = np.zeros(len(data.columns)-1, dtype=int)\n",
    "        cash_init = invest\n",
    "    else:\n",
    "        init_positions = np.zeros(len(data.columns)-1, dtype=int)\n",
    "        cash_init = np.dot(old_cir_prices, np.array(stocks))\n",
    "    \n",
    "    if strategy == 'Maximum Sharpe Ratio Portfolio': \n",
    "        x, cash, intrest = strat_max_Sharpe(init_positions, cash_init, mu, Q, cur_prices, trans)\n",
    "    \n",
    "    if strategy == 'Equally Weighted Portfolio': \n",
    "        x, cash, intrest = strat_equally_weighted(init_positions, cash_init, mu, Q, cur_prices, trans)\n",
    "    \n",
    "    if strategy == 'Equal Risk Contributions Portfolio': \n",
    "        print(Q)\n",
    "        x, cash, intrest = strat_equal_risk_contr(init_positions, cash_init, mu, Q, cur_prices, trans)\n",
    "        \n",
    "    if strategy == 'Robust Optimization Portfolio': \n",
    "        x, cash, intrest = strat_robust_optim(init_positions, cash_init, mu, Q, cur_prices, trans)\n",
    "\n",
    "    if strategy == 'Mininum Variance Portfolio': \n",
    "        x, cash, intrest = strat_min_variance(init_positions, cash_init, mu, Q, cur_prices, trans)\n",
    "\n",
    "    x_df = pd.DataFrame()\n",
    "    x_df = x_df.append(pd.DataFrame(x).T)\n",
    "    x_df.columns = comp_names\n",
    "    x_df['Cash Remaining ($)'] = round(cash, 2)\n",
    "    x_df['Total Portfolio Value ($)'] = round(np.dot(cur_prices, x),2)\n",
    "    x_df.index.names = ['Stocks']\n",
    "    display(x_df)\n",
    "    \n",
    "    pl_df = pd.DataFrame({'Company': comp_names, 'Number of Stocks': x})\n",
    "    plt.figure(figsize=(10,10))\n",
    "    plt.pie(pl_df[\"Number of Stocks\"], labels = pl_df[\"Company\"])\n",
    "    plt.show()\n",
    "    \n",
    "    return x_df"
   ]
  },
  {
   "cell_type": "markdown",
   "metadata": {},
   "source": [
    "## Assistant Initilization"
   ]
  },
  {
   "cell_type": "code",
   "execution_count": 133,
   "metadata": {},
   "outputs": [],
   "source": [
    "assistant = AssistantV2(version='2021-11-27', authenticator=IAMAuthenticator('7QnyQ0GZgQ6L8dUXt_8m7V2Gh-7GJ8QSYaTEVExESvgI'))\n",
    "assistant.set_service_url('https://api.us-south.assistant.watson.cloud.ibm.com/instances/b2f00ca9-62c6-4df9-8d18-747e48e6fc6e')\n",
    "ASSISTANT_ID = \"c691812f-b204-4eb2-a190-deb0a9f19301\"\n",
    "session_id = assistant.create_session(assistant_id=ASSISTANT_ID).get_result()[\"session_id\"]\n",
    "\n",
    "class my_dictionary(dict):\n",
    "\n",
    "    def __init__(self):\n",
    "        self = dict()\n",
    "\n",
    "    def add(self, key, value):\n",
    "        self[key] = value\n",
    "\n",
    "ent_dic = my_dictionary()\n",
    "\n",
    "def message_assistant(text):\n",
    "    response = assistant.message(assistant_id=ASSISTANT_ID,\n",
    "                                 session_id=session_id,\n",
    "    \n",
    "                                 input={'message_type': 'text', 'text': text}).get_result()\n",
    "    entities = []\n",
    "    for i in range(0,5):\n",
    "        try:\n",
    "            entities.append(response['output']['entities'][i]['value'])\n",
    "        except:\n",
    "            pass\n",
    "    try:\n",
    "        ent_dic.add(response['output']['entities'][0]['entity'], entities)\n",
    "        entities = []\n",
    "    except:\n",
    "        pass\n",
    "    \n",
    "    for i in range(0,2):\n",
    "        try:\n",
    "            print(response['output']['generic'][i]['text'])\n",
    "        except:\n",
    "            pass\n",
    "  \n",
    "    try:\n",
    "        print(response['output']['generic'][0]['title'])\n",
    "    except:\n",
    "        pass\n",
    "    \n",
    "    if 'options' in response['output']['generic'][0]:\n",
    "        print(\"Here are your options, please type them as shown as your response\")\n",
    "        \n",
    "        for i in range(0,4):\n",
    "            try:\n",
    "                print(response['output']['generic'][0]['options'][i]['label'])\n",
    "            except:\n",
    "                pass\n",
    "\n",
    "    return response\n",
    "\n"
   ]
  },
  {
   "cell_type": "markdown",
   "metadata": {},
   "source": [
    "## Assistant Interactions"
   ]
  },
  {
   "cell_type": "code",
   "execution_count": 141,
   "metadata": {},
   "outputs": [
    {
     "name": "stdout",
     "output_type": "stream",
     "text": [
      "Hey there! I'm FinBot! I'm here to help you with your portfolio management according to your preferences. \n",
      "I can help you either to build a new portfolio or rebalance your own portfolio.\n",
      "So which service do you want me to do?\n"
     ]
    }
   ],
   "source": [
    "r = message_assistant(\"hello how are you?\")"
   ]
  },
  {
   "cell_type": "code",
   "execution_count": 142,
   "metadata": {
    "scrolled": true
   },
   "outputs": [
    {
     "name": "stdout",
     "output_type": "stream",
     "text": [
      "Since I am in a development stage right now and you are using a naïve version of me, I can help you build a portfolio which consists of following 25 prominent stocks from 5 different sectors:\n",
      "Tech: (Google, Apple, Tesla, Amazon, Oracle)\n",
      "Banking: (CITI, CIBC, RBC, TD, Chase)\n",
      "Energy: (Enbridge, TC Canada, CNR, Suncor, Imperial Oil)\n",
      "Automobile: (GM, Honda, Ford, Toyota, Tata)\n",
      "Pharmaceutical: (Pfizer, AbbVie, Johnson & Johnson, Sanofi, Merck & Co.)\n",
      "So, let’s begin!! Can you tell me the amount of money you have planned to invest?\n"
     ]
    }
   ],
   "source": [
    "r = message_assistant(\"new portfolio\")"
   ]
  },
  {
   "cell_type": "code",
   "execution_count": 143,
   "metadata": {
    "scrolled": true
   },
   "outputs": [
    {
     "name": "stdout",
     "output_type": "stream",
     "text": [
      "And how long are you planning to invest the aforesaid amount?\n",
      "Here are your options, please type them as shown as your response\n",
      "6 months\n",
      "1 year\n",
      "2 years\n",
      "3 years\n"
     ]
    }
   ],
   "source": [
    "r = message_assistant(\"10000\")"
   ]
  },
  {
   "cell_type": "code",
   "execution_count": 144,
   "metadata": {
    "scrolled": true
   },
   "outputs": [
    {
     "name": "stdout",
     "output_type": "stream",
     "text": [
      "Ok, can you let me know more about your risk appetite? Just a friendly reminder: Returns on your portfolio are likely proportional to the risk factor associated with it. To make things simple for you, I have three choices for you:\n",
      "Here are your options, please type them as shown as your response\n",
      "High risk\n",
      "Moderate risk\n",
      "Low risk\n"
     ]
    }
   ],
   "source": [
    "r = message_assistant('3 years')"
   ]
  },
  {
   "cell_type": "code",
   "execution_count": 145,
   "metadata": {},
   "outputs": [
    {
     "name": "stdout",
     "output_type": "stream",
     "text": [
      "Alright! By the way, do you happen to have any preference for any industries among the following 5: Technology, Banking, Energy, Automobile and Pharmaceutical. \n",
      "Do let me know all your preferred industries and I will ensure to avoid stocks from the others…\n"
     ]
    }
   ],
   "source": [
    "r = message_assistant('low risk')"
   ]
  },
  {
   "cell_type": "code",
   "execution_count": 146,
   "metadata": {},
   "outputs": [
    {
     "name": "stdout",
     "output_type": "stream",
     "text": [
      "For the above-mentioned stocks, how often would you like to rebalance your portfolio?\n",
      "Here are your options, please type them as shown as your response\n",
      "Every month\n",
      "Every 2 months\n",
      "Quarterly\n",
      "Half-yearly\n"
     ]
    }
   ],
   "source": [
    "r = message_assistant('Tech,Auto,Pharmacy,Energy')"
   ]
  },
  {
   "cell_type": "code",
   "execution_count": 147,
   "metadata": {},
   "outputs": [
    {
     "name": "stdout",
     "output_type": "stream",
     "text": [
      "Also, can you let me know what is the transaction cost associated with assets’ trading on your preferred trading platform?  I need this information while rebalancing your portfolio...\n",
      "(Please enter percentage value)\n"
     ]
    }
   ],
   "source": [
    "r = message_assistant('Every month')"
   ]
  },
  {
   "cell_type": "code",
   "execution_count": 148,
   "metadata": {},
   "outputs": [
    {
     "name": "stdout",
     "output_type": "stream",
     "text": [
      "Are you ok with short selling / leveraging? I will deploy my models based on your choice:\n",
      "Here are your options, please type them as shown as your response\n",
      "Yes\n",
      "No\n"
     ]
    }
   ],
   "source": [
    "r = message_assistant('2%')"
   ]
  },
  {
   "cell_type": "code",
   "execution_count": 149,
   "metadata": {},
   "outputs": [
    {
     "name": "stdout",
     "output_type": "stream",
     "text": [
      "Thank you for being so helpful and patient…. Please provide me a few minutes to process your inputs and build a best portfolio for you…\n"
     ]
    },
    {
     "ename": "UnboundLocalError",
     "evalue": "local variable 'time' referenced before assignment",
     "output_type": "error",
     "traceback": [
      "\u001b[1;31m---------------------------------------------------------------------------\u001b[0m",
      "\u001b[1;31mUnboundLocalError\u001b[0m                         Traceback (most recent call last)",
      "\u001b[1;32m<ipython-input-149-de5ca2696f80>\u001b[0m in \u001b[0;36m<module>\u001b[1;34m\u001b[0m\n\u001b[0;32m      1\u001b[0m \u001b[0mr\u001b[0m \u001b[1;33m=\u001b[0m \u001b[0mmessage_assistant\u001b[0m\u001b[1;33m(\u001b[0m\u001b[1;34m'yes'\u001b[0m\u001b[1;33m)\u001b[0m\u001b[1;33m\u001b[0m\u001b[1;33m\u001b[0m\u001b[0m\n\u001b[1;32m----> 2\u001b[1;33m \u001b[0mstocks\u001b[0m\u001b[1;33m,\u001b[0m \u001b[0minvest\u001b[0m\u001b[1;33m,\u001b[0m \u001b[0mindustry\u001b[0m\u001b[1;33m,\u001b[0m \u001b[0mstrategy\u001b[0m\u001b[1;33m,\u001b[0m \u001b[0mtrans\u001b[0m \u001b[1;33m=\u001b[0m \u001b[0mclean_dic\u001b[0m\u001b[1;33m(\u001b[0m\u001b[0ment_dic\u001b[0m\u001b[1;33m)\u001b[0m\u001b[1;33m\u001b[0m\u001b[1;33m\u001b[0m\u001b[0m\n\u001b[0m\u001b[0;32m      3\u001b[0m \u001b[0mx_df\u001b[0m \u001b[1;33m=\u001b[0m \u001b[0mprotopt\u001b[0m\u001b[1;33m(\u001b[0m\u001b[0mstocks\u001b[0m\u001b[1;33m,\u001b[0m \u001b[0minvest\u001b[0m\u001b[1;33m,\u001b[0m \u001b[0mindustry\u001b[0m\u001b[1;33m,\u001b[0m \u001b[0mstrategy\u001b[0m\u001b[1;33m,\u001b[0m \u001b[0mtrans\u001b[0m\u001b[1;33m,\u001b[0m \u001b[0mdata\u001b[0m\u001b[1;33m)\u001b[0m\u001b[1;33m\u001b[0m\u001b[1;33m\u001b[0m\u001b[0m\n",
      "\u001b[1;32m<ipython-input-9-bb4c163c1de2>\u001b[0m in \u001b[0;36mclean_dic\u001b[1;34m(dic)\u001b[0m\n\u001b[0;32m     71\u001b[0m     \u001b[1;31m#longtime High risk high rebalance: Sharpe Ratio\u001b[0m\u001b[1;33m\u001b[0m\u001b[1;33m\u001b[0m\u001b[1;33m\u001b[0m\u001b[0m\n\u001b[0;32m     72\u001b[0m     \u001b[1;32mif\u001b[0m \u001b[0mrebalance_time\u001b[0m \u001b[1;33m==\u001b[0m \u001b[1;36m1\u001b[0m \u001b[1;32mor\u001b[0m \u001b[0mrebalance_time\u001b[0m \u001b[1;33m==\u001b[0m \u001b[1;36m2\u001b[0m\u001b[1;33m:\u001b[0m\u001b[1;33m\u001b[0m\u001b[1;33m\u001b[0m\u001b[0m\n\u001b[1;32m---> 73\u001b[1;33m         \u001b[1;32mif\u001b[0m \u001b[0mtime\u001b[0m \u001b[1;33m==\u001b[0m \u001b[1;36m2\u001b[0m \u001b[1;32mor\u001b[0m \u001b[0mtime\u001b[0m \u001b[1;33m==\u001b[0m \u001b[1;36m3\u001b[0m\u001b[1;33m:\u001b[0m\u001b[1;33m\u001b[0m\u001b[1;33m\u001b[0m\u001b[0m\n\u001b[0m\u001b[0;32m     74\u001b[0m             \u001b[1;32mif\u001b[0m \u001b[0mrisk\u001b[0m \u001b[1;33m==\u001b[0m \u001b[1;34m\"high\"\u001b[0m\u001b[1;33m:\u001b[0m\u001b[1;33m\u001b[0m\u001b[1;33m\u001b[0m\u001b[0m\n\u001b[0;32m     75\u001b[0m                 \u001b[0mstrategy\u001b[0m \u001b[1;33m=\u001b[0m \u001b[1;34m'Maximum Sharpe Ratio Portfolio'\u001b[0m\u001b[1;33m\u001b[0m\u001b[1;33m\u001b[0m\u001b[0m\n",
      "\u001b[1;31mUnboundLocalError\u001b[0m: local variable 'time' referenced before assignment"
     ]
    }
   ],
   "source": [
    "r = message_assistant('yes')\n",
    "stocks, invest, industry, strategy, trans = clean_dic(ent_dic)\n",
    "x_df = protopt(stocks, invest, industry, strategy, trans, data)"
   ]
  },
  {
   "cell_type": "code",
   "execution_count": null,
   "metadata": {},
   "outputs": [],
   "source": []
  },
  {
   "cell_type": "code",
   "execution_count": null,
   "metadata": {},
   "outputs": [],
   "source": []
  }
 ],
 "metadata": {
  "kernelspec": {
   "display_name": "Python 3 (ipykernel)",
   "language": "python",
   "name": "python3"
  },
  "language_info": {
   "codemirror_mode": {
    "name": "ipython",
    "version": 3
   },
   "file_extension": ".py",
   "mimetype": "text/x-python",
   "name": "python",
   "nbconvert_exporter": "python",
   "pygments_lexer": "ipython3",
   "version": "3.8.12"
  }
 },
 "nbformat": 4,
 "nbformat_minor": 4
}
